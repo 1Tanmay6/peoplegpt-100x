{
 "cells": [
  {
   "cell_type": "code",
   "execution_count": 11,
   "metadata": {},
   "outputs": [
    {
     "data": {
      "text/plain": [
       "True"
      ]
     },
     "execution_count": 11,
     "metadata": {},
     "output_type": "execute_result"
    }
   ],
   "source": [
    "import os\n",
    "from openai import OpenAI\n",
    "from dotenv import load_dotenv\n",
    "from langchain_openai import ChatOpenAI\n",
    "from langchain_ollama import ChatOllama\n",
    "load_dotenv()"
   ]
  },
  {
   "cell_type": "markdown",
   "metadata": {},
   "source": [
    "## Original Implementation"
   ]
  },
  {
   "cell_type": "code",
   "execution_count": 3,
   "metadata": {},
   "outputs": [
    {
     "name": "stdout",
     "output_type": "stream",
     "text": [
      "The question of the meaning of life is one of the most profound and enduring inquiries in human thought, and its answer remains deeply personal, subjective, and shaped by individual beliefs, values, and experiences. Here are some key perspectives to consider:\n",
      "\n",
      "### 1. **Philosophical Perspectives**\n",
      "   - **Existentialism**: Philosophers like Jean-Paul Sartre and Albert Camus argue that life has no inherent meaning, and it is up to each individual to create their own purpose through choices, actions, and experiences. This emphasizes freedom, responsibility, and the search for meaning in an indifferent universe.\n",
      "   - **Absurdism**: Camus also explored the idea that the search for meaning in a universe devoid of inherent purpose leads to the \"absurd\"—a tension between human desire for meaning and the silent, indifferent reality. He saw this as an opportunity to embrace life's inherent contradictions and find joy in the struggle.\n",
      "   - **Stoicism**: Stoics like Marcus Aurelius focus on living in harmony with nature, practicing virtue, and accepting what cannot be changed. For them, the meaning of life lies in cultivating inner peace and resilience.\n",
      "\n",
      "### 2. **Religious and Spiritual Views**\n",
      "   - **Abrahamic Religions (Christianity, Islam, Judaism)**: Many traditions frame life as a journey toward a divine purpose, such as serving God, achieving salvation, or fulfilling a covenant. The meaning of life is often tied to spiritual growth, moral living, and eventual union with the divine.\n",
      "   - **Eastern Philosophies (Buddhism, Hinduism, Taoism)**: In these traditions, meaning is often linked to liberation from suffering (e.g., **nirvana** in Buddhism), self-realization (e.g., **moksha** in Hinduism), or aligning with universal principles (e.g., **Tao** in Taoism). The focus is on inner harmony, detachment from material desires, and compassion.\n",
      "\n",
      "### 3. **Scientific and Naturalistic Approaches**\n",
      "   - **Biological Perspective**: Life can be seen as a product of natural selection, driven by survival, reproduction, and the propagation of genes. While this might seem reductionist, it frames meaning in terms of evolutionary continuity and the drive to ensure our existence beyond the self.\n",
      "   - **Cosmic Perspective**: From a scientific standpoint, life is a fleeting phenomenon in the vastness of the universe. Some find meaning in understanding the cosmos, contributing to knowledge, or leaving a legacy through scientific or artistic endeavors.\n",
      "\n",
      "### 4. **Psychological and Humanist Views**\n",
      "   - **Humanism**: Humanist thinkers often emphasize meaning derived from personal growth, relationships, creativity, and contributing to the well-being of others. Viktor Frankl’s **logotherapy** posits that meaning is found through love, work, and attitude toward unavoidable suffering.\n",
      "   - **Positive Psychology**: This field explores how individuals can cultivate meaning through goals, values, and fulfillment of personal potential. It suggests that meaning arises from engagement in activities that align with one’s strengths and passions.\n",
      "\n",
      "### 5. **Personal and Cultural Contexts**\n",
      "   - **Cultural and Social Influences**: Many cultures define meaning through community, tradition, or collective purpose. For example, some societies prioritize family, duty, or historical legacy as sources of significance.\n",
      "   - **Individual Reflection**: For many, meaning is shaped by personal experiences, relationships, and aspirations. It could involve personal fulfillment, helping others, creating art, or pursuing knowledge.\n",
      "\n",
      "### 6. **Atheist and Secular Perspectives**\n",
      "   - **Secular Humanism**: Focuses on finding meaning through reason, ethics, and human welfare, rejecting supernatural explanations.\n",
      "   - **Utilitarianism**: Suggests that life’s meaning lies in maximizing happiness and reducing suffering for the greatest number of people.\n",
      "\n",
      "### 7. **Existential and Nihilistic Considerations**\n",
      "   - **Nihilism**: Some argue that life has no inherent meaning, and any perceived purpose is a human construct. This can lead to a focus on authenticity or embracing the present moment.\n",
      "   - **Transhumanism/Posthumanism**: Envisions meaning through the advancement of consciousness, technology, and the transcendence of biological limitations.\n",
      "\n",
      "### Final Thoughts:\n",
      "The search for meaning often involves a blend of these perspectives. For many, the answer is not a single truth but an ongoing journey—a process of questioning, exploring, and creating. It might be found in love, creativity, service, discovery, or simply the joy of existence. Ultimately, the meaning of life may lie in the act of *meaning-making* itself: the courage to seek purpose, the openness to growth, and the willingness to engage with the world in ways that resonate with your own values and heart.\n",
      "\n",
      "What resonates with you? Is there a particular angle or idea that feels closer to your own understanding?\n"
     ]
    }
   ],
   "source": [
    "client = OpenAI(\n",
    "    base_url=\"https://openrouter.ai/api/v1\",\n",
    "    api_key=os.getenv(\"openrouter_api_key\")\n",
    ")\n",
    "\n",
    "completion = client.chat.completions.create(\n",
    "    extra_headers={\n",
    "    },\n",
    "    extra_body={},\n",
    "    model=os.getenv(\"openrouter_model_name\"),\n",
    "    messages=[\n",
    "        {\n",
    "            \"role\": \"user\",\n",
    "            \"content\": \"What is the meaning of life?\"\n",
    "        }\n",
    "    ]\n",
    ")\n",
    "print(completion.choices[0].message.content)"
   ]
  },
  {
   "cell_type": "markdown",
   "metadata": {},
   "source": [
    "## Langchain Implementation"
   ]
  },
  {
   "cell_type": "code",
   "execution_count": 8,
   "metadata": {},
   "outputs": [],
   "source": [
    "\n",
    "\n",
    "llm = ChatOpenAI(\n",
    "    base_url=\"https://openrouter.ai/api/v1\",\n",
    "    api_key=os.getenv(\"openrouter_api_key\"),\n",
    "    model=os.getenv(\"openrouter_model_name\")\n",
    ")"
   ]
  },
  {
   "cell_type": "markdown",
   "metadata": {},
   "source": [
    "### Sync"
   ]
  },
  {
   "cell_type": "code",
   "execution_count": 9,
   "metadata": {},
   "outputs": [
    {
     "data": {
      "text/plain": [
       "AIMessage(content='The question of the meaning of life is one of humanity\\'s most profound and enduring inquiries, and its answer often depends on individual beliefs, experiences, and perspectives. Here are some key approaches to consider:\\n\\n1. **Philosophical Perspectives**:  \\n   - **Existentialism**: Philosophers like Jean-Paul Sartre and Albert Camus argue that life has no inherent meaning, and it is up to each person to create their own. This involves embracing freedom, responsibility, and the search for purpose through choices and actions.  \\n   - **Stoicism**: Focuses on living in harmony with nature, cultivating virtue, and finding meaning in resilience and rationality.  \\n   - **Nihilism**: Suggests that life lacks intrinsic meaning, though some interpretations emphasize the importance of creating meaning despite this void.\\n\\n2. **Religious and Spiritual Views**:  \\n   Many religions offer frameworks for meaning. For example:  \\n   - **Abrahamic faiths (Christianity, Islam, Judaism)**: Often emphasize a relationship with a divine creator, moral living, and serving a higher purpose.  \\n   - **Eastern traditions (Buddhism, Hinduism, Taoism)**: May focus on transcending suffering, achieving enlightenment, or aligning with cosmic principles.  \\n   - **Secular humanism**: Centers on human values, ethics, and the pursuit of knowledge, with meaning derived from empathy, creativity, and collective progress.\\n\\n3. **Scientific and Biological角度**:  \\n   From a scientific lens, life’s meaning might be seen through the lens of evolution: survival, reproduction, and the continuation of species. However, this doesn’t inherently address *why* life exists, but rather *how* it developed. Some argue that the pursuit of knowledge, curiosity, or connection to others could be seen as byproducts of biological imperatives.\\n\\n4. **Personal and Psychological Meanings**:  \\n   For many, meaning arises from relationships, personal goals, passions, or contributions to the world. Psychologist Victor Frankl, who survived Nazi concentration camps, proposed that meaning can be found in love, work, or facing suffering with dignity. Others find purpose in art, helping others, or spiritual practices.\\n\\n5. **Agnostic or Open-Ended Approaches**:  \\n   Some people embrace the idea that the question itself is part of life’s mystery. The search for meaning may be as important as the answer, fostering growth, curiosity, and connection to the unknown.\\n\\nUltimately, the meaning of life is not a fixed destination but a dynamic process. It might involve:  \\n- **Self-reflection**: Exploring what resonates with your values and aspirations.  \\n- **Connection**: Building relationships and contributing to community.  \\n- **Growth**: Seeking knowledge, creativity, or personal development.  \\n- **Empathy**: Understanding and caring for others.  \\n\\nThere’s no single answer, and it’s okay to wrestle with uncertainty. What matters is how you engage with the journey—curiosity, compassion, and the courage to define your own purpose. As the ancient Greek philosopher Diogenes once said, *\"If I were going to live my life over, I would have lived it as I did—seeking the truth.\"* Your meaning might lie in the questions you ask, the lives you touch, or the experiences that leave you awestruck.', additional_kwargs={'refusal': None}, response_metadata={'token_usage': {'completion_tokens': 1249, 'prompt_tokens': 16, 'total_tokens': 1265, 'completion_tokens_details': None, 'prompt_tokens_details': None}, 'model_name': 'qwen/qwen3-8b:free', 'system_fingerprint': None, 'id': 'gen-1748625903-72nd394EzllRQkzrJneo', 'service_tier': None, 'finish_reason': 'stop', 'logprobs': None}, id='run--4db1b3d8-9204-476d-9761-e197465d7572-0', usage_metadata={'input_tokens': 16, 'output_tokens': 1249, 'total_tokens': 1265, 'input_token_details': {}, 'output_token_details': {}})"
      ]
     },
     "execution_count": 9,
     "metadata": {},
     "output_type": "execute_result"
    }
   ],
   "source": [
    "llm.invoke(\"What is the meaning of life?\")"
   ]
  },
  {
   "cell_type": "markdown",
   "metadata": {},
   "source": [
    "### Async"
   ]
  },
  {
   "cell_type": "code",
   "execution_count": 10,
   "metadata": {},
   "outputs": [
    {
     "data": {
      "text/plain": [
       "AIMessage(content='The question \"What is the meaning of life?\" is one of humanity\\'s oldest and most profound, with no single answer that satisfies everyone. It has been explored across disciplines—philosophy, religion, science, art, and personal reflection—and the search for meaning often depends on individual perspectives, values, and contexts. Here are some key approaches to consider:\\n\\n### 1. **Religious and Spiritual Perspectives**  \\n   Many religions and spiritual traditions propose that life has a divine purpose. For example:  \\n   - **Abrahamic faiths (Judaism, Christianity, Islam):** Life may be about fulfilling God\\'s will, building a relationship with the divine, or adhering to moral laws.  \\n   - **Eastern philosophies (Buddhism, Hinduism):** Meaning might involve liberation (moksha or nirvana), attaining enlightenment, or aligning with cosmic order (dharma).  \\n   - **Other traditions:** Some view life as a journey toward harmony, interconnectedness, or service to others.  \\n\\n### 2. **Philosophical Views**  \\n   - **Existentialism:** Thinkers like Jean-Paul Sartre and Albert Camus argue that life has no inherent meaning, and it is up to individuals to create their own purpose through choices, passions, and actions.  \\n   - **Stoicism:** Focuses on living virtuously, accepting what cannot be changed, and finding meaning in resilience and rationality.  \\n   - **Nihilism:** Suggests that life has no intrinsic meaning, purpose, or value, though this is often contrasted with existentialist optimism.  \\n   - **Absurdism:** (e.g., Camus) Emphasizes the tension between humanity\\'s search for meaning and the universe\\'s silence, advocating for embracing life\\'s inherent absurdity with authenticity.  \\n\\n### 3. **Scientific and Evolutionary Perspectives**  \\n   From a biological standpoint, life’s \"purpose\" might be seen as what drives survival and reproduction, but this is often reduced to a mechanism rather than a purpose. Philosophers like David Hume and thinkers in evolutionary biology question whether such mechanisms inherently grant meaning.  \\n\\n### 4. **Cultural and Societal Influences**  \\n   Different cultures often define meaning through collective values, such as family, community, tradition, or contributing to society. For example:  \\n   - **Collectivist cultures:** May prioritize relationships, duty, and harmony.  \\n   - **Individualist cultures:** Often emphasize personal growth, autonomy, and self-actualization.  \\n\\n### 5. **Personal and Subjective Meaning**  \\n   Many find meaning in:  \\n   - **Love and relationships:** Connecting with others, nurturing families, or building communities.  \\n   - **Creativity and purpose:** Through art, work, or helping others.  \\n   - **Experiences and growth:** Traveling, learning, facing challenges, or seeking joy.  \\n   - **Existential fulfillment:** Self-discovery, authenticity, and living in alignment with one\\'s values.  \\n\\n### 6. **The Search for Meaning Itself**  \\n   Some argue that the act of seeking meaning is part of what makes life meaningful. Philosophers like Viktor Frankl (author of *Man\\'s Search for Meaning*) suggest that even in suffering, people can find purpose through love, resilience, or creativity.  \\n\\n### 7. **A Place for Mystery**  \\n   Others embrace the idea that meaning may not be something to be \"solved\" but rather something to be experienced. As the poet Rilke wrote, *\"Life is not a question to be answered, but a mystery to be lived.\"*  \\n\\n### Final Thoughts  \\nThe meaning of life is ultimately a deeply personal question. It may involve introspection, dialogue, or exploration of what resonates with your values, desires, and experiences. For some, it’s about connection; for others, it’s about growth or contributing to something larger than themselves. The journey to uncover your own answer—rather than seeking a fixed truth—is what might make life feel purposeful.  \\n\\nWould you like to explore a specific angle (e.g., spiritual, philosophical, or practical)? 🌱', additional_kwargs={'refusal': None}, response_metadata={'token_usage': {'completion_tokens': 1407, 'prompt_tokens': 16, 'total_tokens': 1423, 'completion_tokens_details': None, 'prompt_tokens_details': None}, 'model_name': 'qwen/qwen3-8b:free', 'system_fingerprint': None, 'id': 'gen-1748625914-neZzAzJU5RvNhsvX85Fz', 'service_tier': None, 'finish_reason': 'stop', 'logprobs': None}, id='run--034c80f1-dbb8-4937-89aa-82cc5d884980-0', usage_metadata={'input_tokens': 16, 'output_tokens': 1407, 'total_tokens': 1423, 'input_token_details': {}, 'output_token_details': {}})"
      ]
     },
     "execution_count": 10,
     "metadata": {},
     "output_type": "execute_result"
    }
   ],
   "source": [
    "await llm.ainvoke(\"What is the meaning of life?\")"
   ]
  },
  {
   "cell_type": "markdown",
   "metadata": {},
   "source": [
    "## Ollama"
   ]
  },
  {
   "cell_type": "code",
   "execution_count": 12,
   "metadata": {},
   "outputs": [],
   "source": [
    "llm = ChatOllama(\n",
    "    model=\"qwen3:8b\",\n",
    ")"
   ]
  },
  {
   "cell_type": "code",
   "execution_count": 14,
   "metadata": {},
   "outputs": [],
   "source": [
    "response = llm.invoke(\"What is the meaning of life?\")"
   ]
  },
  {
   "cell_type": "code",
   "execution_count": null,
   "metadata": {},
   "outputs": [],
   "source": []
  }
 ],
 "metadata": {
  "kernelspec": {
   "display_name": ".venv",
   "language": "python",
   "name": "python3"
  },
  "language_info": {
   "codemirror_mode": {
    "name": "ipython",
    "version": 3
   },
   "file_extension": ".py",
   "mimetype": "text/x-python",
   "name": "python",
   "nbconvert_exporter": "python",
   "pygments_lexer": "ipython3",
   "version": "3.11.12"
  }
 },
 "nbformat": 4,
 "nbformat_minor": 2
}
