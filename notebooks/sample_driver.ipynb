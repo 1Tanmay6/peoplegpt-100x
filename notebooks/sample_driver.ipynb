{
 "cells": [
  {
   "cell_type": "code",
   "execution_count": 2,
   "metadata": {},
   "outputs": [
    {
     "name": "stdout",
     "output_type": "stream",
     "text": [
      "<class 'dict'>\n"
     ]
    }
   ],
   "source": [
    "import json\n",
    "import asyncio\n",
    "from servers.resume_parser import ResumeParser\n",
    "\n",
    "from servers.connectors import OllamaConnector\n",
    "\n",
    "ollama_connector = OllamaConnector(thinking='non-thinking')\n",
    "rsp = ResumeParser(connector=ollama_connector)\n",
    "\n",
    "res = await rsp.parse(r'/home/tanmaypatil/Documents/100x/docs/samples/Naukri_AgrimaGoel[1y_6m].docx')\n",
    "\n",
    "\n",
    "# with open('./resume_agrima.json', 'w') as f:\n",
    "#     json.dump(fp=f, obj=res, indent=4)\n",
    "\n",
    "print(type(res))"
   ]
  },
  {
   "cell_type": "code",
   "execution_count": 10,
   "metadata": {},
   "outputs": [
    {
     "data": {
      "text/plain": [
       "'+91-9429877631'"
      ]
     },
     "execution_count": 10,
     "metadata": {},
     "output_type": "execute_result"
    }
   ],
   "source": [
    "res['personal_information']['phone_number']"
   ]
  }
 ],
 "metadata": {
  "kernelspec": {
   "display_name": ".venv",
   "language": "python",
   "name": "python3"
  },
  "language_info": {
   "codemirror_mode": {
    "name": "ipython",
    "version": 3
   },
   "file_extension": ".py",
   "mimetype": "text/x-python",
   "name": "python",
   "nbconvert_exporter": "python",
   "pygments_lexer": "ipython3",
   "version": "3.11.12"
  }
 },
 "nbformat": 4,
 "nbformat_minor": 2
}
