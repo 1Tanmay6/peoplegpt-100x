{
 "cells": [
  {
   "cell_type": "code",
   "execution_count": 1,
   "metadata": {},
   "outputs": [],
   "source": [
    "import os\n",
    "import uuid\n",
    "from dotenv import load_dotenv\n",
    "from servers import OllamaConnector, parse, ATSScorer, score, JobRequirements, generate, rerank_resumes"
   ]
  },
  {
   "cell_type": "code",
   "execution_count": 2,
   "metadata": {},
   "outputs": [
    {
     "data": {
      "text/plain": [
       "True"
      ]
     },
     "execution_count": 2,
     "metadata": {},
     "output_type": "execute_result"
    }
   ],
   "source": [
    "load_dotenv()"
   ]
  },
  {
   "cell_type": "code",
   "execution_count": 3,
   "metadata": {},
   "outputs": [],
   "source": [
    "connector = OllamaConnector(\n",
    "    model=os.getenv('ollama_model_name_non_thinking'),\n",
    "    thinking='non-thinking'\n",
    ")"
   ]
  },
  {
   "cell_type": "code",
   "execution_count": 4,
   "metadata": {},
   "outputs": [
    {
     "name": "stdout",
     "output_type": "stream",
     "text": [
      "→ Using DuckDB file: /home/tanmaypatil/Documents/100x/src/servers/extraction_server/db/resumes_be116dbe-3ee7-11f0-b25d-f3c46a9e2d03.duckdb\n",
      "→ Scanning folder   : /home/tanmaypatil/Downloads/Documents\n",
      "→ Tagging job_id    : be116dbe-3ee7-11f0-b25d-f3c46a9e2d03\n",
      "\n",
      "[+] Created new DuckDB database at '/home/tanmaypatil/Documents/100x/src/servers/extraction_server/db/resumes_be116dbe-3ee7-11f0-b25d-f3c46a9e2d03.duckdb'\n",
      "[+] Inserted '/home/tanmaypatil/Downloads/Documents/resume.pdf' (resume_id=063a4369-875c-46a7-a0fd-29a71bb2381c)\n",
      "[+] Inserted '/home/tanmaypatil/Downloads/Documents/resume_juanjosecarin.pdf' (resume_id=627151f4-deda-4753-8897-d0863a275e97)\n",
      "[+] Inserted '/home/tanmaypatil/Downloads/Documents/DataScience-Resume-(1).pdf' (resume_id=375eded3-8475-4729-86bd-d11db5312dda)\n",
      "[+] Inserted '/home/tanmaypatil/Downloads/Documents/PranavNarkhede-Resume.pdf' (resume_id=3bb028ca-6c4f-4aa9-b4db-3465c4e40198)\n",
      "[+] Inserted '/home/tanmaypatil/Downloads/Documents/Resume-DS-SPA.pdf' (resume_id=e3101d76-79aa-4e3f-888d-52e3e55a290e)\n",
      "[+] Inserted '/home/tanmaypatil/Downloads/Documents/Bhavesh_Wadhwani_Resume.pdf' (resume_id=8a18548a-2d6c-40db-a0fd-58ae839149a3)\n",
      "[+] Inserted '/home/tanmaypatil/Downloads/Documents/Tanmay_Patil_CV.pdf' (resume_id=0bba6eb6-07ea-426b-a34f-c2537ec63f3a)\n",
      "[!] Found 1 duplicate resume row(s) → stored in 'duplicate_resumes'.\n",
      "\n",
      " All done.\n",
      "  • All resumes →   Table `resumes` in /home/tanmaypatil/Documents/100x/src/servers/extraction_server/db/resumes_be116dbe-3ee7-11f0-b25d-f3c46a9e2d03.duckdb\n",
      "  • Duplicates →    Table `duplicate_resumes` in /home/tanmaypatil/Documents/100x/src/servers/extraction_server/db/resumes_be116dbe-3ee7-11f0-b25d-f3c46a9e2d03.duckdb\n"
     ]
    }
   ],
   "source": [
    "DEFAULT_FOLDER_PATH = \"/home/tanmaypatil/Downloads/Documents\"\n",
    "DEFAULT_JOB_ID = uuid.uuid1()\n",
    "\n",
    "db_path = await parse(connector=connector, folder_path=DEFAULT_FOLDER_PATH,\n",
    "                      job_id=DEFAULT_JOB_ID)"
   ]
  },
  {
   "cell_type": "code",
   "execution_count": 5,
   "metadata": {},
   "outputs": [],
   "source": [
    "example_job_requirements = JobRequirements(\n",
    "    required_skills=[\n",
    "        'Python',\n",
    "        'Machine Learning',\n",
    "        'SQL',\n",
    "        'Statistics',\n",
    "        'Data Analysis',\n",
    "        'Model Evaluation',\n",
    "        'Data Preprocessing',\n",
    "        'Feature Engineering',\n",
    "        'Exploratory Data Analysis (EDA)'\n",
    "    ],\n",
    "    preferred_skills=[\n",
    "        'TensorFlow',\n",
    "        'PyTorch',\n",
    "        'Deep Learning',\n",
    "        'AWS',\n",
    "        'Docker',\n",
    "        'Kubernetes',\n",
    "        'Apache Spark',\n",
    "        'MLflow',\n",
    "        'CI/CD for ML',\n",
    "        'Tableau or Power BI',\n",
    "        'FastAPI or Flask'\n",
    "    ],\n",
    "    min_experience_years=2,\n",
    "    required_education='Bachelor\\'s Degree in Computer Science, Statistics, Mathematics, or a related field',\n",
    "    industry_keywords=[\n",
    "        'Artificial Intelligence',\n",
    "        'Data Science',\n",
    "        'Predictive Modeling',\n",
    "        'Data Engineering',\n",
    "        'Data-Driven Decisions',\n",
    "        'Big Data',\n",
    "        'Cloud ML'\n",
    "    ],\n",
    "    job_title_keywords=[\n",
    "        'Data Scientist',\n",
    "        'Machine Learning Engineer',\n",
    "        'AI Engineer',\n",
    "        'Data Analyst',\n",
    "        'ML Researcher'\n",
    "    ],\n",
    "    extra_information=[\n",
    "        'Strong communication skills and ability to explain complex models to non-technical stakeholders',\n",
    "        'Experience working with version control (Git) and collaborative development workflows',\n",
    "        'Experience with large-scale datasets and real-time inference pipelines',\n",
    "        'Understanding of model interpretability and responsible AI practices',\n",
    "        'Publications, Kaggle participation, or open-source contributions are a plus',\n",
    "        'Knowledge of software engineering principles and testing best practices'\n",
    "    ]\n",
    ")"
   ]
  },
  {
   "cell_type": "code",
   "execution_count": 6,
   "metadata": {},
   "outputs": [
    {
     "name": "stdout",
     "output_type": "stream",
     "text": [
      "Updated resume ID a40f0d40-fa25-4ddf-87af-4b0d8510b69c: Score={'overall_score': 22.08, 'detailed_scores': {'skills_score': 7.777777777777777, 'experience_score': 12.0, 'education_score': 45, 'progression_score': 0.0, 'project_score': 0.0, 'recency_score': 100.0, 'completeness_score': 100}, 'pass_threshold': False, 'candidate_name': 'Pranav Narkhede'}, Passed=False\n",
      "Updated resume ID 9b99fb9a-4a28-4bed-a619-8e469c64af77: Score={'overall_score': 36.09, 'detailed_scores': {'skills_score': 21.01010101010101, 'experience_score': 12.4, 'education_score': 70, 'progression_score': 0.0, 'project_score': 30.9375, 'recency_score': 100.0, 'completeness_score': 100}, 'pass_threshold': False, 'candidate_name': 'Juan Jose Carin'}, Passed=False\n",
      "Updated resume ID 03d974af-2964-4a0f-98b1-a574d5dd9e85: Score={'overall_score': 49.21, 'detailed_scores': {'skills_score': 36.96969696969696, 'experience_score': 24.826830937713893, 'education_score': 95, 'progression_score': 75, 'project_score': 0.8333333333333334, 'recency_score': 100.0, 'completeness_score': 100}, 'pass_threshold': False, 'candidate_name': 'Surya Teja Menta'}, Passed=True\n",
      "Updated resume ID fe3b75e9-dafa-4b7f-9136-1046416b6fc3: Score={'overall_score': 18.49, 'detailed_scores': {'skills_score': 7.777777777777777, 'experience_score': 20.142857142857142, 'education_score': 5, 'progression_score': 0.0, 'project_score': 1.875, 'recency_score': 100.0, 'completeness_score': 100}, 'pass_threshold': False, 'candidate_name': 'Bhavesh Wadhwani'}, Passed=False\n",
      "Updated resume ID 6b5052d2-d20a-4b5b-bcf3-1360861778ab: Score={'overall_score': 51.48, 'detailed_scores': {'skills_score': 50.20202020202019, 'experience_score': 17.66461327857632, 'education_score': 100, 'progression_score': 65, 'project_score': 2.5, 'recency_score': 100.0, 'completeness_score': 100}, 'pass_threshold': False, 'candidate_name': 'Tanmay Patil'}, Passed=True\n",
      "Updated resume ID b4098c4f-a518-4389-a6d6-3d37ad783dd3: Score={'overall_score': 36.23, 'detailed_scores': {'skills_score': 44.34343434343434, 'experience_score': 15.714285714285714, 'education_score': 65, 'progression_score': 0.0, 'project_score': 0.0, 'recency_score': 100.0, 'completeness_score': 85}, 'pass_threshold': False, 'candidate_name': 'Vipul Raj Singh Jhala'}, Passed=False\n",
      "\n",
      "Evaluating candidate profile...\n",
      "\n",
      "Evaluating Pranav Narkhede (ID: a40f0d40-fa25-4ddf-87af-4b0d8510b69c):\n",
      "--------------------------------------------------\n",
      "Final Score: 38.2\n",
      "Level: entry\n",
      "Pass Status: FAIL\n",
      "\n",
      "Component Scores:\n",
      "• Education: 30.0\n",
      "• Technical Skills: 10.0\n",
      "• Language Proficiency: 20.0\n",
      "• Work Experience: 60.0\n",
      "• Projects: 70.0\n",
      "• Industry Relevance: 65.0\n",
      "--------------------------------------------------\n",
      "\n",
      "Evaluating candidate profile...\n",
      "\n",
      "Evaluating Juan Jose Carin (ID: 9b99fb9a-4a28-4bed-a619-8e469c64af77):\n",
      "--------------------------------------------------\n",
      "Final Score: 73.2\n",
      "Level: entry\n",
      "Pass Status: FAIL\n",
      "\n",
      "Component Scores:\n",
      "• Education: 85.0\n",
      "• Technical Skills: 65.0\n",
      "• Language Proficiency: 70.0\n",
      "• Work Experience: 70.0\n",
      "• Projects: 80.0\n",
      "• Industry Relevance: 90.0\n",
      "--------------------------------------------------\n",
      "\n",
      "Evaluating candidate profile...\n",
      "\n",
      "Evaluating Surya Teja Menta (ID: 03d974af-2964-4a0f-98b1-a574d5dd9e85):\n",
      "--------------------------------------------------\n",
      "Final Score: 73.8\n",
      "Level: entry\n",
      "Pass Status: FAIL\n",
      "\n",
      "Component Scores:\n",
      "• Education: 70.0\n",
      "• Technical Skills: 65.0\n",
      "• Language Proficiency: 60.0\n",
      "• Work Experience: 85.0\n",
      "• Projects: 80.0\n",
      "• Industry Relevance: 90.0\n",
      "--------------------------------------------------\n",
      "\n",
      "Evaluating candidate profile...\n",
      "\n",
      "Evaluating Bhavesh Wadhwani (ID: fe3b75e9-dafa-4b7f-9136-1046416b6fc3):\n",
      "--------------------------------------------------\n",
      "Final Score: 58.2\n",
      "Level: entry\n",
      "Pass Status: FAIL\n",
      "\n",
      "Component Scores:\n",
      "• Education: 60.0\n",
      "• Technical Skills: 30.0\n",
      "• Language Proficiency: 40.0\n",
      "• Work Experience: 85.0\n",
      "• Projects: 70.0\n",
      "• Industry Relevance: 90.0\n",
      "--------------------------------------------------\n",
      "\n",
      "Evaluating candidate profile...\n",
      "\n",
      "Evaluating Tanmay Patil (ID: 6b5052d2-d20a-4b5b-bcf3-1360861778ab):\n",
      "--------------------------------------------------\n",
      "Final Score: 65.0\n",
      "Level: entry\n",
      "Pass Status: FAIL\n",
      "\n",
      "Component Scores:\n",
      "• Education: 80.0\n",
      "• Technical Skills: 85.0\n",
      "• Language Proficiency: 70.0\n",
      "• Work Experience: 40.0\n",
      "• Projects: 60.0\n",
      "• Industry Relevance: 30.0\n",
      "--------------------------------------------------\n",
      "\n",
      "Evaluating candidate profile...\n",
      "\n",
      "Evaluating Vipul Raj Singh Jhala (ID: b4098c4f-a518-4389-a6d6-3d37ad783dd3):\n",
      "--------------------------------------------------\n",
      "Final Score: 56.0\n",
      "Level: entry\n",
      "Pass Status: FAIL\n",
      "\n",
      "Component Scores:\n",
      "• Education: 40.0\n",
      "• Technical Skills: 60.0\n",
      "• Language Proficiency: 60.0\n",
      "• Work Experience: 60.0\n",
      "• Projects: 50.0\n",
      "• Industry Relevance: 70.0\n",
      "--------------------------------------------------\n"
     ]
    }
   ],
   "source": [
    "await score(\n",
    "    db_path='/home/tanmaypatil/Documents/100x/src/servers/extraction_server/db/resumes_82d4a9a2-3ecc-11f0-9f0a-9b4cd7206487.duckdb',\n",
    "    job_requirements=example_job_requirements\n",
    ")"
   ]
  },
  {
   "cell_type": "code",
   "execution_count": 9,
   "metadata": {},
   "outputs": [
    {
     "name": "stdout",
     "output_type": "stream",
     "text": [
      "Resumes processed successfully: 'passed_ranked_resumes' and 'failed_resumes' tables created.\n"
     ]
    }
   ],
   "source": [
    "rerank_resumes(\n",
    "    db_path='/home/tanmaypatil/Documents/100x/src/servers/extraction_server/db/resumes_82d4a9a2-3ecc-11f0-9f0a-9b4cd7206487.duckdb')"
   ]
  },
  {
   "cell_type": "code",
   "execution_count": 10,
   "metadata": {},
   "outputs": [],
   "source": [
    "await generate(db_path='/home/tanmaypatil/Documents/100x/src/servers/extraction_server/db/resumes_82d4a9a2-3ecc-11f0-9f0a-9b4cd7206487.duckdb', job_requirements=example_job_requirements)"
   ]
  }
 ],
 "metadata": {
  "kernelspec": {
   "display_name": ".venv",
   "language": "python",
   "name": "python3"
  },
  "language_info": {
   "codemirror_mode": {
    "name": "ipython",
    "version": 3
   },
   "file_extension": ".py",
   "mimetype": "text/x-python",
   "name": "python",
   "nbconvert_exporter": "python",
   "pygments_lexer": "ipython3",
   "version": "3.11.12"
  }
 },
 "nbformat": 4,
 "nbformat_minor": 2
}
